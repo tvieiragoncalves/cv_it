{
 "cells": [
  {
   "cell_type": "markdown",
   "metadata": {},
   "source": [
    "## CV IT"
   ]
  },
  {
   "cell_type": "markdown",
   "metadata": {},
   "source": [
    "# Formação relevante na componente académica"
   ]
  },
  {
   "cell_type": "markdown",
   "metadata": {},
   "source": [
    "Classificação final das unidades curriculares\n",
    "- Estatística 1 : 16 valores\n",
    "- Estatística 2 : 16 valores \n",
    "- Seminário de análise de dados/dissertação : 18 valores\n",
    "- Dissertação com forte componente estatística : [Symptoms of Posttraumatic stress, Quality of Life and Posttraumatic Growth among cancer patients and survivors: the role of Psychological flexibility](https://estudogeral.uc.pt/bitstream/10316/83925/1/Tese%20MIP%20%5BTiago%5D%20.pdf) , moderation analysis and moderated moderation analysis."
   ]
  },
  {
   "cell_type": "markdown",
   "metadata": {},
   "source": [
    "## Experiência com frameworks"
   ]
  },
  {
   "cell_type": "markdown",
   "metadata": {},
   "source": [
    "- git\n",
    "- Jekyll\n",
    "- Go Hugo\n",
    "- Jupyter Notebooks\n"
   ]
  },
  {
   "cell_type": "markdown",
   "metadata": {},
   "source": [
    "## Linguagem de Programação\n",
    "- Python"
   ]
  },
  {
   "cell_type": "markdown",
   "metadata": {},
   "source": [
    "## Experiência com CMS"
   ]
  },
  {
   "cell_type": "markdown",
   "metadata": {},
   "source": [
    "- Netlify CMS"
   ]
  },
  {
   "cell_type": "markdown",
   "metadata": {},
   "source": [
    "## Projectos em curso"
   ]
  },
  {
   "cell_type": "markdown",
   "metadata": {},
   "source": [
    "-[Mh Resources](https://mhresources.pt/) Um serviço de consultoria na àrea da Saúde Mental que aproxima os utentes dos profissionais da saúde, procurando soluções personalizadas para ambos. Neste projecto tive a oportunidade de realizar o desenvolvimento do site bem como a criação de campanhas googleads, podendo assim desenvolver estas competências,"
   ]
  },
  {
   "cell_type": "markdown",
   "metadata": {},
   "source": [
    "-[Casa da Oliveira](https://casadaoliveira-cspc.pt/) Um Clínica de Internamento Psiquiátrico em Coimbra. Neste projecto realizei o desenvolvimento do website utilizando as tecnologias GoHugo e Netlify CMS."
   ]
  },
  {
   "cell_type": "markdown",
   "metadata": {},
   "source": [
    "-[Plena Mente](https://tiagogoncalvespsi.tk/) Gabinete de psicologia / consultório privado. Fui responsável pela conceptualização do projecto bem como pelo desenvolvimento do website."
   ]
  },
  {
   "cell_type": "markdown",
   "metadata": {},
   "source": [
    "-[Bot sixth continent](https://github.com/tvieiragoncalves/botsixthcontinent) Um bot construído em Python, utilizando o módulo Selenium que faz login automático no site sixthcontinent."
   ]
  },
  {
   "cell_type": "markdown",
   "metadata": {},
   "source": [
    "-[Benefício da dúvida Podcast](https://tvieiragoncalves.github.io/) Um podcast de entrevistas biográficas. "
   ]
  },
  {
   "cell_type": "markdown",
   "metadata": {},
   "source": [
    "## Outras informações"
   ]
  },
  {
   "cell_type": "markdown",
   "metadata": {},
   "source": [
    "Fui premiado por duas vezes com a distinção: Prémio 3 % melhores estudantes da Universidade de Coimbra "
   ]
  },
  {
   "cell_type": "markdown",
   "metadata": {},
   "source": [
    "Conta no [Github](https://github.com/tvieiragoncalves)"
   ]
  },
  {
   "cell_type": "markdown",
   "metadata": {},
   "source": [
    "# To do\n",
    "- [x] Introdução dos primeiros tópicos\n",
    "- [ ] Mais projectos em python (Adicionar)\n",
    "- [ ] Usando Pandas, mostrar as notas a estatística"
   ]
  }
 ],
 "metadata": {
  "kernelspec": {
   "display_name": "Python 3",
   "language": "python",
   "name": "python3"
  },
  "language_info": {
   "codemirror_mode": {
    "name": "ipython",
    "version": 3
   },
   "file_extension": ".py",
   "mimetype": "text/x-python",
   "name": "python",
   "nbconvert_exporter": "python",
   "pygments_lexer": "ipython3",
   "version": "3.7.3"
  }
 },
 "nbformat": 4,
 "nbformat_minor": 2
}

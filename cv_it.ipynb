{
 "cells": [
  {
   "cell_type": "markdown",
   "metadata": {},
   "source": [
    "## CV IT"
   ]
  },
  {
   "cell_type": "markdown",
   "metadata": {},
   "source": [
    "# Formação relevante na componente académica"
   ]
  },
  {
   "cell_type": "markdown",
   "metadata": {},
   "source": [
    "Classificação final das unidades curriculares\n",
    "- Estatística 1 : 16 valores\n",
    "- Estatística 2 : 16 valores \n",
    "- Seminário de análise de dados/dissertação : 18 valores\n",
    "- Dissertação com forte componente estatística : [Symptoms of Posttraumatic stress, Quality of Life and Posttraumatic Growth among cancer patients and survivors: the role of Psychological flexibility](https://estudogeral.uc.pt/bitstream/10316/83925/1/Tese%20MIP%20%5BTiago%5D%20.pdf) , moderation analysis and moderated moderation analysis.\n",
    "- Mestrado Integrado em Psicologia (Faculdade de Psicologia e Ciências da Educação da Universidade de Coimbra)"
   ]
  },
  {
   "cell_type": "markdown",
   "metadata": {},
   "source": [
    "## Experiência com frameworks"
   ]
  },
  {
   "cell_type": "markdown",
   "metadata": {},
   "source": [
    "- git\n",
    "- Jekyll\n",
    "- Go Hugo\n",
    "- Jupyter Notebooks\n"
   ]
  },
  {
   "cell_type": "markdown",
   "metadata": {},
   "source": [
    "## Linguagem de Programação\n",
    "- Python"
   ]
  },
  {
   "cell_type": "markdown",
   "metadata": {},
   "source": [
    "## Experiência com CMS"
   ]
  },
  {
   "cell_type": "markdown",
   "metadata": {},
   "source": [
    "- Netlify CMS"
   ]
  },
  {
   "cell_type": "markdown",
   "metadata": {},
   "source": [
    "## Projectos em curso"
   ]
  },
  {
   "cell_type": "markdown",
   "metadata": {},
   "source": [
    "-[Mh Resources](https://mhresources.pt/) Um serviço de consultoria na àrea da Saúde Mental que aproxima os utentes dos profissionais da saúde, procurando soluções personalizadas para ambos. Neste projecto tive a oportunidade de realizar o desenvolvimento do site bem como a criação de campanhas googleads, podendo assim desenvolver estas competências."
   ]
  },
  {
   "cell_type": "code",
   "execution_count": 4,
   "metadata": {},
   "outputs": [
    {
     "data": {
      "text/html": [
       "\n",
       "        <iframe\n",
       "            width=\"100%\"\n",
       "            height=\"350\"\n",
       "            src=\"https://mhresources.pt/\"\n",
       "            frameborder=\"0\"\n",
       "            allowfullscreen\n",
       "        ></iframe>\n",
       "        "
      ],
      "text/plain": [
       "<IPython.lib.display.IFrame at 0x10e8a66d8>"
      ]
     },
     "execution_count": 4,
     "metadata": {},
     "output_type": "execute_result"
    }
   ],
   "source": [
    "from IPython.display import IFrame\n",
    "IFrame('https://mhresources.pt/', width='100%', height=350)"
   ]
  },
  {
   "cell_type": "markdown",
   "metadata": {},
   "source": [
    "-[Casa da Oliveira](https://casadaoliveira-cspc.pt/) Um Clínica de Internamento Psiquiátrico em Coimbra. Neste projecto realizei o desenvolvimento do website utilizando as tecnologias GoHugo e Netlify CMS.\n"
   ]
  },
  {
   "cell_type": "code",
   "execution_count": 5,
   "metadata": {},
   "outputs": [
    {
     "data": {
      "text/html": [
       "\n",
       "        <iframe\n",
       "            width=\"100%\"\n",
       "            height=\"350\"\n",
       "            src=\"https://casadaoliveira-cspc.pt/\"\n",
       "            frameborder=\"0\"\n",
       "            allowfullscreen\n",
       "        ></iframe>\n",
       "        "
      ],
      "text/plain": [
       "<IPython.lib.display.IFrame at 0x10e8a6978>"
      ]
     },
     "execution_count": 5,
     "metadata": {},
     "output_type": "execute_result"
    }
   ],
   "source": [
    "IFrame('https://casadaoliveira-cspc.pt/', width='100%', height=350)"
   ]
  },
  {
   "cell_type": "markdown",
   "metadata": {},
   "source": [
    "-[Plena Mente](https://psicologiaclinica.cf/) Gabinete de psicologia / consultório privado. Fui responsável pela conceptualização do projecto bem como pelo desenvolvimento do website."
   ]
  },
  {
   "cell_type": "code",
   "execution_count": 6,
   "metadata": {},
   "outputs": [
    {
     "data": {
      "text/html": [
       "\n",
       "        <iframe\n",
       "            width=\"100%\"\n",
       "            height=\"350\"\n",
       "            src=\"https://psicologiaclinica.cf/\"\n",
       "            frameborder=\"0\"\n",
       "            allowfullscreen\n",
       "        ></iframe>\n",
       "        "
      ],
      "text/plain": [
       "<IPython.lib.display.IFrame at 0x10e8a6cc0>"
      ]
     },
     "execution_count": 6,
     "metadata": {},
     "output_type": "execute_result"
    }
   ],
   "source": [
    "IFrame('https://tiagogoncalvespsi.tk/', width='100%', height=350)"
   ]
  },
  {
   "cell_type": "markdown",
   "metadata": {},
   "source": [
    "-[Bot sixth continent](https://github.com/tvieiragoncalves/botsixthcontinent) Um bot construído em Python, utilizando o módulo Selenium que faz login automático no site sixthcontinent."
   ]
  },
  {
   "cell_type": "markdown",
   "metadata": {},
   "source": [
    "-[Benefício da dúvida Podcast](https://tvieiragoncalves.github.io/) Um podcast de entrevistas biográficas. "
   ]
  },
  {
   "cell_type": "markdown",
   "metadata": {},
   "source": [
    "## Outras informações"
   ]
  },
  {
   "cell_type": "markdown",
   "metadata": {},
   "source": [
    "Fui premiado por duas vezes com a distinção: Prémio 3 % melhores estudantes da Universidade de Coimbra "
   ]
  },
  {
   "cell_type": "markdown",
   "metadata": {},
   "source": [
    "Conta no [Github](https://github.com/tvieiragoncalves)"
   ]
  },
  {
   "cell_type": "markdown",
   "metadata": {},
   "source": [
    "## Formação\n",
    "\n",
    "- Udemy - Automating boring stuff with python\n",
    "- IBM, cognitive class - Python for data science\n",
    "- IBM, cognitive class - Data analysis with Python"
   ]
  },
  {
   "cell_type": "markdown",
   "metadata": {},
   "source": [
    "# To do\n",
    "- [x] Introdução dos primeiros tópicos\n",
    "- [ ] Mais projectos em python (Adicionar)\n",
    "- [ ] Usando Pandas, mostrar as notas a estatística"
   ]
  }
 ],
 "metadata": {
  "kernelspec": {
   "display_name": "Python 3",
   "language": "python",
   "name": "python3"
  },
  "language_info": {
   "codemirror_mode": {
    "name": "ipython",
    "version": 3
   },
   "file_extension": ".py",
   "mimetype": "text/x-python",
   "name": "python",
   "nbconvert_exporter": "python",
   "pygments_lexer": "ipython3",
   "version": "3.7.3"
  }
 },
 "nbformat": 4,
 "nbformat_minor": 2
}
